{
 "cells": [
  {
   "cell_type": "code",
   "execution_count": 1,
   "id": "8d147cdd",
   "metadata": {},
   "outputs": [],
   "source": [
    "import pandas as pd\n",
    "import numpy as np"
   ]
  },
  {
   "cell_type": "markdown",
   "id": "dd3d480f",
   "metadata": {},
   "source": [
    "# Get Data"
   ]
  },
  {
   "cell_type": "code",
   "execution_count": 2,
   "id": "4ae4ff95",
   "metadata": {},
   "outputs": [],
   "source": [
    "data = pd.read_csv(\"https://archive.ics.uci.edu/ml/machine-learning-databases/00529/diabetes_data_upload.csv\")"
   ]
  },
  {
   "cell_type": "code",
   "execution_count": 3,
   "id": "d09b8dfa",
   "metadata": {},
   "outputs": [
    {
     "data": {
      "text/plain": [
       "Index(['Age', 'Gender', 'Polyuria', 'Polydipsia', 'sudden weight loss',\n",
       "       'weakness', 'Polyphagia', 'Genital thrush', 'visual blurring',\n",
       "       'Itching', 'Irritability', 'delayed healing', 'partial paresis',\n",
       "       'muscle stiffness', 'Alopecia', 'Obesity', 'class'],\n",
       "      dtype='object')"
      ]
     },
     "execution_count": 3,
     "metadata": {},
     "output_type": "execute_result"
    }
   ],
   "source": [
    "data.columns"
   ]
  },
  {
   "cell_type": "code",
   "execution_count": 4,
   "id": "dcd0a419",
   "metadata": {},
   "outputs": [
    {
     "data": {
      "text/plain": [
       "(520, 17)"
      ]
     },
     "execution_count": 4,
     "metadata": {},
     "output_type": "execute_result"
    }
   ],
   "source": [
    "data.shape"
   ]
  },
  {
   "cell_type": "markdown",
   "id": "5aeb6d09",
   "metadata": {},
   "source": [
    "# Data Prep"
   ]
  },
  {
   "cell_type": "code",
   "execution_count": 5,
   "id": "49b9b60c",
   "metadata": {},
   "outputs": [],
   "source": [
    "data.columns = [i.lower().replace(\" \",\"_\") for i in data.columns]"
   ]
  },
  {
   "cell_type": "markdown",
   "id": "5d8f6b45",
   "metadata": {},
   "source": [
    "### Check null"
   ]
  },
  {
   "cell_type": "code",
   "execution_count": 6,
   "id": "da142106",
   "metadata": {},
   "outputs": [
    {
     "data": {
      "text/plain": [
       "age                   0\n",
       "gender                0\n",
       "polyuria              0\n",
       "polydipsia            0\n",
       "sudden_weight_loss    0\n",
       "weakness              0\n",
       "polyphagia            0\n",
       "genital_thrush        0\n",
       "visual_blurring       0\n",
       "itching               0\n",
       "irritability          0\n",
       "delayed_healing       0\n",
       "partial_paresis       0\n",
       "muscle_stiffness      0\n",
       "alopecia              0\n",
       "obesity               0\n",
       "class                 0\n",
       "dtype: int64"
      ]
     },
     "execution_count": 6,
     "metadata": {},
     "output_type": "execute_result"
    }
   ],
   "source": [
    "data.isna().sum()"
   ]
  },
  {
   "cell_type": "markdown",
   "id": "fe7b19a3",
   "metadata": {},
   "source": [
    "### Check dups"
   ]
  },
  {
   "cell_type": "code",
   "execution_count": 7,
   "id": "ada59a52",
   "metadata": {},
   "outputs": [
    {
     "data": {
      "text/plain": [
       "269"
      ]
     },
     "execution_count": 7,
     "metadata": {},
     "output_type": "execute_result"
    }
   ],
   "source": [
    "data.duplicated().sum()"
   ]
  },
  {
   "cell_type": "code",
   "execution_count": 8,
   "id": "fed2eea9",
   "metadata": {},
   "outputs": [],
   "source": [
    "data = data.drop_duplicates().reset_index(drop=True)"
   ]
  },
  {
   "cell_type": "markdown",
   "id": "9620ff4d",
   "metadata": {},
   "source": [
    "### Data Types"
   ]
  },
  {
   "cell_type": "code",
   "execution_count": 9,
   "id": "30eaf1c9",
   "metadata": {},
   "outputs": [
    {
     "data": {
      "text/plain": [
       "age                    int64\n",
       "gender                object\n",
       "polyuria              object\n",
       "polydipsia            object\n",
       "sudden_weight_loss    object\n",
       "weakness              object\n",
       "polyphagia            object\n",
       "genital_thrush        object\n",
       "visual_blurring       object\n",
       "itching               object\n",
       "irritability          object\n",
       "delayed_healing       object\n",
       "partial_paresis       object\n",
       "muscle_stiffness      object\n",
       "alopecia              object\n",
       "obesity               object\n",
       "class                 object\n",
       "dtype: object"
      ]
     },
     "execution_count": 9,
     "metadata": {},
     "output_type": "execute_result"
    }
   ],
   "source": [
    "data.dtypes"
   ]
  },
  {
   "cell_type": "markdown",
   "id": "2da7823f",
   "metadata": {},
   "source": [
    "### clean target col"
   ]
  },
  {
   "cell_type": "code",
   "execution_count": 10,
   "id": "5fd0420e",
   "metadata": {},
   "outputs": [
    {
     "data": {
      "text/plain": [
       "Positive    173\n",
       "Negative     78\n",
       "Name: class, dtype: int64"
      ]
     },
     "execution_count": 10,
     "metadata": {},
     "output_type": "execute_result"
    }
   ],
   "source": [
    "data[\"class\"].value_counts()"
   ]
  },
  {
   "cell_type": "code",
   "execution_count": 11,
   "id": "51bac469",
   "metadata": {},
   "outputs": [],
   "source": [
    "data[\"target\"] = data.apply(lambda df: True if df[\"class\"]==\"Positive\" else False, axis=1)"
   ]
  },
  {
   "cell_type": "code",
   "execution_count": 12,
   "id": "879485b7",
   "metadata": {},
   "outputs": [
    {
     "data": {
      "text/plain": [
       "True     173\n",
       "False     78\n",
       "Name: target, dtype: int64"
      ]
     },
     "execution_count": 12,
     "metadata": {},
     "output_type": "execute_result"
    }
   ],
   "source": [
    "data[\"target\"].value_counts()"
   ]
  },
  {
   "cell_type": "code",
   "execution_count": 13,
   "id": "3d008a84",
   "metadata": {},
   "outputs": [],
   "source": [
    "data = data.drop(columns=[\"class\"])"
   ]
  },
  {
   "cell_type": "markdown",
   "id": "1feff494",
   "metadata": {},
   "source": [
    "### clean feature cols"
   ]
  },
  {
   "cell_type": "code",
   "execution_count": 14,
   "id": "51378a0b",
   "metadata": {},
   "outputs": [
    {
     "data": {
      "text/plain": [
       "Index(['age', 'gender', 'polyuria', 'polydipsia', 'sudden_weight_loss',\n",
       "       'weakness', 'polyphagia', 'genital_thrush', 'visual_blurring',\n",
       "       'itching', 'irritability', 'delayed_healing', 'partial_paresis',\n",
       "       'muscle_stiffness', 'alopecia', 'obesity', 'target'],\n",
       "      dtype='object')"
      ]
     },
     "execution_count": 14,
     "metadata": {},
     "output_type": "execute_result"
    }
   ],
   "source": [
    "data.columns"
   ]
  },
  {
   "cell_type": "code",
   "execution_count": 15,
   "id": "c67bd10c",
   "metadata": {},
   "outputs": [],
   "source": [
    "target_col = \"target\""
   ]
  },
  {
   "cell_type": "code",
   "execution_count": 16,
   "id": "609098cf",
   "metadata": {},
   "outputs": [],
   "source": [
    "feature_cols = [i for i in data.columns if \"target\" not in i]"
   ]
  },
  {
   "cell_type": "code",
   "execution_count": 17,
   "id": "86feb698",
   "metadata": {},
   "outputs": [
    {
     "data": {
      "text/plain": [
       "age                    int64\n",
       "gender                object\n",
       "polyuria              object\n",
       "polydipsia            object\n",
       "sudden_weight_loss    object\n",
       "weakness              object\n",
       "polyphagia            object\n",
       "genital_thrush        object\n",
       "visual_blurring       object\n",
       "itching               object\n",
       "irritability          object\n",
       "delayed_healing       object\n",
       "partial_paresis       object\n",
       "muscle_stiffness      object\n",
       "alopecia              object\n",
       "obesity               object\n",
       "dtype: object"
      ]
     },
     "execution_count": 17,
     "metadata": {},
     "output_type": "execute_result"
    }
   ],
   "source": [
    "data[feature_cols].dtypes"
   ]
  },
  {
   "cell_type": "code",
   "execution_count": 18,
   "id": "2801f7ce",
   "metadata": {},
   "outputs": [],
   "source": [
    "bool_cols = [i for i in feature_cols if \"age\" not in i and \"gender\" not in i]"
   ]
  },
  {
   "cell_type": "code",
   "execution_count": 19,
   "id": "5e0301e2",
   "metadata": {},
   "outputs": [],
   "source": [
    "data[bool_cols] = data[bool_cols] == \"Yes\""
   ]
  },
  {
   "cell_type": "code",
   "execution_count": 27,
   "id": "e1552c36",
   "metadata": {},
   "outputs": [
    {
     "data": {
      "text/html": [
       "<div>\n",
       "<style scoped>\n",
       "    .dataframe tbody tr th:only-of-type {\n",
       "        vertical-align: middle;\n",
       "    }\n",
       "\n",
       "    .dataframe tbody tr th {\n",
       "        vertical-align: top;\n",
       "    }\n",
       "\n",
       "    .dataframe thead th {\n",
       "        text-align: right;\n",
       "    }\n",
       "</style>\n",
       "<table border=\"1\" class=\"dataframe\">\n",
       "  <thead>\n",
       "    <tr style=\"text-align: right;\">\n",
       "      <th></th>\n",
       "      <th>0</th>\n",
       "      <th>1</th>\n",
       "      <th>2</th>\n",
       "      <th>3</th>\n",
       "      <th>4</th>\n",
       "    </tr>\n",
       "  </thead>\n",
       "  <tbody>\n",
       "    <tr>\n",
       "      <th>age</th>\n",
       "      <td>40</td>\n",
       "      <td>58</td>\n",
       "      <td>41</td>\n",
       "      <td>45</td>\n",
       "      <td>60</td>\n",
       "    </tr>\n",
       "    <tr>\n",
       "      <th>polyuria</th>\n",
       "      <td>False</td>\n",
       "      <td>False</td>\n",
       "      <td>True</td>\n",
       "      <td>False</td>\n",
       "      <td>True</td>\n",
       "    </tr>\n",
       "    <tr>\n",
       "      <th>polydipsia</th>\n",
       "      <td>True</td>\n",
       "      <td>False</td>\n",
       "      <td>False</td>\n",
       "      <td>False</td>\n",
       "      <td>True</td>\n",
       "    </tr>\n",
       "    <tr>\n",
       "      <th>sudden_weight_loss</th>\n",
       "      <td>False</td>\n",
       "      <td>False</td>\n",
       "      <td>False</td>\n",
       "      <td>True</td>\n",
       "      <td>True</td>\n",
       "    </tr>\n",
       "    <tr>\n",
       "      <th>weakness</th>\n",
       "      <td>True</td>\n",
       "      <td>True</td>\n",
       "      <td>True</td>\n",
       "      <td>True</td>\n",
       "      <td>True</td>\n",
       "    </tr>\n",
       "    <tr>\n",
       "      <th>polyphagia</th>\n",
       "      <td>False</td>\n",
       "      <td>False</td>\n",
       "      <td>True</td>\n",
       "      <td>True</td>\n",
       "      <td>True</td>\n",
       "    </tr>\n",
       "    <tr>\n",
       "      <th>genital_thrush</th>\n",
       "      <td>False</td>\n",
       "      <td>False</td>\n",
       "      <td>False</td>\n",
       "      <td>True</td>\n",
       "      <td>False</td>\n",
       "    </tr>\n",
       "    <tr>\n",
       "      <th>visual_blurring</th>\n",
       "      <td>False</td>\n",
       "      <td>True</td>\n",
       "      <td>False</td>\n",
       "      <td>False</td>\n",
       "      <td>True</td>\n",
       "    </tr>\n",
       "    <tr>\n",
       "      <th>itching</th>\n",
       "      <td>True</td>\n",
       "      <td>False</td>\n",
       "      <td>True</td>\n",
       "      <td>True</td>\n",
       "      <td>True</td>\n",
       "    </tr>\n",
       "    <tr>\n",
       "      <th>irritability</th>\n",
       "      <td>False</td>\n",
       "      <td>False</td>\n",
       "      <td>False</td>\n",
       "      <td>False</td>\n",
       "      <td>True</td>\n",
       "    </tr>\n",
       "    <tr>\n",
       "      <th>delayed_healing</th>\n",
       "      <td>True</td>\n",
       "      <td>False</td>\n",
       "      <td>True</td>\n",
       "      <td>True</td>\n",
       "      <td>True</td>\n",
       "    </tr>\n",
       "    <tr>\n",
       "      <th>partial_paresis</th>\n",
       "      <td>False</td>\n",
       "      <td>True</td>\n",
       "      <td>False</td>\n",
       "      <td>False</td>\n",
       "      <td>True</td>\n",
       "    </tr>\n",
       "    <tr>\n",
       "      <th>muscle_stiffness</th>\n",
       "      <td>True</td>\n",
       "      <td>False</td>\n",
       "      <td>True</td>\n",
       "      <td>False</td>\n",
       "      <td>True</td>\n",
       "    </tr>\n",
       "    <tr>\n",
       "      <th>alopecia</th>\n",
       "      <td>True</td>\n",
       "      <td>True</td>\n",
       "      <td>True</td>\n",
       "      <td>False</td>\n",
       "      <td>True</td>\n",
       "    </tr>\n",
       "    <tr>\n",
       "      <th>obesity</th>\n",
       "      <td>True</td>\n",
       "      <td>False</td>\n",
       "      <td>False</td>\n",
       "      <td>False</td>\n",
       "      <td>True</td>\n",
       "    </tr>\n",
       "    <tr>\n",
       "      <th>target</th>\n",
       "      <td>True</td>\n",
       "      <td>True</td>\n",
       "      <td>True</td>\n",
       "      <td>True</td>\n",
       "      <td>True</td>\n",
       "    </tr>\n",
       "    <tr>\n",
       "      <th>is_male</th>\n",
       "      <td>True</td>\n",
       "      <td>True</td>\n",
       "      <td>True</td>\n",
       "      <td>True</td>\n",
       "      <td>True</td>\n",
       "    </tr>\n",
       "  </tbody>\n",
       "</table>\n",
       "</div>"
      ],
      "text/plain": [
       "                        0      1      2      3      4\n",
       "age                    40     58     41     45     60\n",
       "polyuria            False  False   True  False   True\n",
       "polydipsia           True  False  False  False   True\n",
       "sudden_weight_loss  False  False  False   True   True\n",
       "weakness             True   True   True   True   True\n",
       "polyphagia          False  False   True   True   True\n",
       "genital_thrush      False  False  False   True  False\n",
       "visual_blurring     False   True  False  False   True\n",
       "itching              True  False   True   True   True\n",
       "irritability        False  False  False  False   True\n",
       "delayed_healing      True  False   True   True   True\n",
       "partial_paresis     False   True  False  False   True\n",
       "muscle_stiffness     True  False   True  False   True\n",
       "alopecia             True   True   True  False   True\n",
       "obesity              True  False  False  False   True\n",
       "target               True   True   True   True   True\n",
       "is_male              True   True   True   True   True"
      ]
     },
     "execution_count": 27,
     "metadata": {},
     "output_type": "execute_result"
    }
   ],
   "source": [
    "data.head().T"
   ]
  },
  {
   "cell_type": "markdown",
   "id": "bdb7fc48",
   "metadata": {},
   "source": [
    "### One Hot encode"
   ]
  },
  {
   "cell_type": "code",
   "execution_count": 21,
   "id": "b06a3043",
   "metadata": {},
   "outputs": [],
   "source": [
    "data[\"is_male\"] = data.gender == \"Male\""
   ]
  },
  {
   "cell_type": "code",
   "execution_count": 25,
   "id": "cda655c6",
   "metadata": {},
   "outputs": [],
   "source": [
    "data = data.drop(columns=[\"gender\"])"
   ]
  },
  {
   "cell_type": "markdown",
   "id": "e6c55063",
   "metadata": {},
   "source": [
    "# EDA"
   ]
  },
  {
   "cell_type": "code",
   "execution_count": 30,
   "id": "a5f3d976",
   "metadata": {},
   "outputs": [],
   "source": [
    "feature_cols = [i for i in data.columns if \"target\" not in i]"
   ]
  },
  {
   "cell_type": "code",
   "execution_count": 31,
   "id": "46b5bb4c",
   "metadata": {},
   "outputs": [
    {
     "data": {
      "text/plain": [
       "['age',\n",
       " 'polyuria',\n",
       " 'polydipsia',\n",
       " 'sudden_weight_loss',\n",
       " 'weakness',\n",
       " 'polyphagia',\n",
       " 'genital_thrush',\n",
       " 'visual_blurring',\n",
       " 'itching',\n",
       " 'irritability',\n",
       " 'delayed_healing',\n",
       " 'partial_paresis',\n",
       " 'muscle_stiffness',\n",
       " 'alopecia',\n",
       " 'obesity',\n",
       " 'is_male']"
      ]
     },
     "execution_count": 31,
     "metadata": {},
     "output_type": "execute_result"
    }
   ],
   "source": [
    "feature_cols"
   ]
  },
  {
   "cell_type": "code",
   "execution_count": 32,
   "id": "1e07be48",
   "metadata": {},
   "outputs": [
    {
     "data": {
      "text/plain": [
       "'target'"
      ]
     },
     "execution_count": 32,
     "metadata": {},
     "output_type": "execute_result"
    }
   ],
   "source": [
    "target_col"
   ]
  },
  {
   "cell_type": "markdown",
   "id": "9200e1d3",
   "metadata": {},
   "source": [
    "## Age"
   ]
  },
  {
   "cell_type": "code",
   "execution_count": null,
   "id": "eb70fa16",
   "metadata": {},
   "outputs": [],
   "source": []
  },
  {
   "cell_type": "code",
   "execution_count": null,
   "id": "8ac34d8b",
   "metadata": {},
   "outputs": [],
   "source": []
  },
  {
   "cell_type": "code",
   "execution_count": null,
   "id": "47a30b55",
   "metadata": {},
   "outputs": [],
   "source": []
  }
 ],
 "metadata": {
  "kernelspec": {
   "display_name": "Python 3 (ipykernel)",
   "language": "python",
   "name": "python3"
  },
  "language_info": {
   "codemirror_mode": {
    "name": "ipython",
    "version": 3
   },
   "file_extension": ".py",
   "mimetype": "text/x-python",
   "name": "python",
   "nbconvert_exporter": "python",
   "pygments_lexer": "ipython3",
   "version": "3.7.8"
  }
 },
 "nbformat": 4,
 "nbformat_minor": 5
}
